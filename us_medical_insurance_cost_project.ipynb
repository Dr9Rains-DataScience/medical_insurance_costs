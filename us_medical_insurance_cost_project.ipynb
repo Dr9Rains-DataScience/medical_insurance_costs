{
 "cells": [
  {
   "cell_type": "markdown",
   "source": [
    "# U.S. Medical Insurance Costs Project\n",
    "\n",
    "In this project, a **CSV** file with medical insurance costs will be investigated using **Python fundamentals**. The goal with this project will be to analyze various attributes within **insurance.csv** to learn more about the patient information in the file and gain insight into potential use cases for the dataset. I decided to perform analysis on two column variables at a time, setting one as the *focus* or *constraint* variable."
   ],
   "metadata": {}
  },
  {
   "cell_type": "markdown",
   "source": [
    "1. Import necessary library\n",
    "\n",
    "Since the file is in **.csv** format, the necessary library is the *python csv library* which is imported below"
   ],
   "metadata": {}
  },
  {
   "cell_type": "code",
   "execution_count": 4,
   "source": [
    "import csv"
   ],
   "outputs": [],
   "metadata": {}
  },
  {
   "cell_type": "markdown",
   "source": [
    "2. Determine what data you want to analyze\n",
    "\n",
    "After looking throught the data i decided that i wanted to analyze the relationship between of smoker status and age, sex, insurance cost and obesity, as well as the relationship between obesity and age, sex, smoker status and insurance cost. I then created the function below to obtain the data i needed."
   ],
   "metadata": {}
  },
  {
   "cell_type": "code",
   "execution_count": 5,
   "source": [
    "def get_data(filename,column,constraint_column,constraint_value):\n",
    "    data =[]\n",
    "    with open(filename,newline='') as csv_file:\n",
    "        reader = csv.DictReader(csv_file)\n",
    "        for row in reader:\n",
    "            if row[constraint_column].isalpha() and row[constraint_column]==constraint_value:\n",
    "                data.append(row[column])\n",
    "            elif not row[constraint_column].isalpha() and float(row[constraint_column]) >= constraint_value:\n",
    "                \n",
    "                data.append(row[column])\n",
    "\n",
    "    return data "
   ],
   "outputs": [],
   "metadata": {}
  },
  {
   "cell_type": "markdown",
   "source": [
    "The conditional statement is added to deal with categorical data and numeric data. Now i call the **get_data** function with the appropriate arguements as shown below"
   ],
   "metadata": {}
  },
  {
   "cell_type": "code",
   "execution_count": 7,
   "source": [
    "filename = 'insurance.csv'\n",
    "\n",
    "smoker_ages =get_data(filename,'age','smoker','yes') \n",
    "smoker_sex = get_data(filename,'sex','smoker','yes')\n",
    "smoker_bmi = get_data(filename,'bmi','smoker','yes')  \n",
    "smoker_charges = get_data(filename,'charges','smoker','yes')\n",
    "\n",
    "obese_ages = get_data(filename,'age','bmi',30.0)\n",
    "obese_sex = get_data(filename,'sex','bmi',30.0)\n",
    "obese_smoker = get_data(filename,'smoker','bmi',30.0)\n",
    "obese_charges = get_data(filename,'charges','bmi',30.0)"
   ],
   "outputs": [],
   "metadata": {}
  },
  {
   "cell_type": "markdown",
   "source": [
    "3. Analyze Data\n",
    "\n",
    "Now that i have my data, the next thing i did was create a class with 5 functions that performed the analysis i needed. This class is shown below"
   ],
   "metadata": {}
  },
  {
   "cell_type": "code",
   "execution_count": 20,
   "source": [
    "class PatientInfos:\n",
    "    def __init__(self,smoker_ages,smoker_sex,smoker_bmi,smoker_charges,obese_ages,obese_sex,obese_smoker,obese_charges):\n",
    "        self.smoker_ages =smoker_ages\n",
    "        self.obese_ages =obese_ages\n",
    "        self.smoker_sex=smoker_sex\n",
    "        self.obese_sex=obese_sex\n",
    "        self.smoker_bmi = smoker_bmi\n",
    "        self.obese_smoker = obese_smoker\n",
    "        self.smoker_charges =smoker_charges\n",
    "        self.obese_charges =obese_charges\n",
    "\n",
    "    #Analyze min, max and average age for focus\n",
    "    def analyze_age(self,focus):\n",
    "        total_age = 0\n",
    "        min_age=float(\"inf\")\n",
    "        max_age=0\n",
    "        if focus ==\"smoker\":\n",
    "            ages =self.smoker_ages\n",
    "        elif focus ==\"obese\":\n",
    "            ages =self.obese_ages    \n",
    "        for age in ages:\n",
    "            total_age+=int(age)\n",
    "            min_age=min(min_age,int(age))\n",
    "            max_age=max(max_age,int(age))\n",
    "        return \"{}=> average age: {}, youngest: {}, oldest:{}\".format(focus,int(total_age/len(ages)),min_age,max_age)\n",
    "\n",
    "    #Analyze percentage of males and females for focus\n",
    "    def analyze_sex(self,focus):\n",
    "        male_count=0\n",
    "        female_count=0\n",
    "        if focus ==\"smoker\":\n",
    "            sexes =self.smoker_sex\n",
    "        elif focus ==\"obese\":\n",
    "            sexes =self.obese_sex\n",
    "        for sex in sexes:\n",
    "            if sex==\"male\":\n",
    "                male_count+=1\n",
    "            else:\n",
    "                female_count+=1\n",
    "        male_percentage =round((male_count*100)/len(sexes),2)\n",
    "        female_percentage =round((female_count*100)/len(sexes),2)\n",
    "        return \"{} => male: {}({}%), female: {}({}%)\".format(focus,male_count,male_percentage,female_count,female_percentage)            \n",
    "    \n",
    "    #Analyze overweight and and obesity stats for given focus\n",
    "    def analyze_bmi(self):\n",
    "        obese_count =0\n",
    "        overweight_count =0\n",
    "        bmis = self.smoker_bmi\n",
    "        focus = \"smoker\"\n",
    "        for bmi in bmis:\n",
    "            if float(bmi) > 30.0:\n",
    "                obese_count+=1\n",
    "            elif float(bmi)>=25.0 and float(bmi) < 30.0:\n",
    "                overweight_count+=1 \n",
    "        over_p = round((overweight_count*100)/len(bmis),2)  \n",
    "        obese_p =round((obese_count*100)/len(bmis),2)        \n",
    "        return \"{}=> overweight:{}({}%), obese:{}({}%)\".format(focus,overweight_count,over_p,obese_count,obese_p)\n",
    "\n",
    "    #Analyze average insurance charge for given focus\n",
    "    def analyze_charges(self,focus):\n",
    "        total_charges = 0\n",
    "        if focus ==\"smoker\":\n",
    "            charges =self.smoker_charges\n",
    "        elif focus ==\"obese\":\n",
    "            charges =self.obese_charges \n",
    "        for charge in charges:\n",
    "            total_charges+=float(charge)\n",
    "        average_charge = round(total_charges/len(charges),2)    \n",
    "        return '{}=> average charge: ${}'.format(focus,average_charge)\n",
    "\n",
    "    #Analyze average non-smoker and smoker percentages for given focus\n",
    "    def analyze_smoker(self):\n",
    "        smoker_count=0\n",
    "        non_smoker_count = 0\n",
    "        smokers=self.obese_smoker\n",
    "        focus = \"obese\"\n",
    "        for smoker in smokers:\n",
    "            if smoker=='yes':\n",
    "                smoker_count+=1\n",
    "            else:\n",
    "                non_smoker_count+=1   \n",
    "        smoker_count_p = round((smoker_count*100)/len(smokers),2)   \n",
    "        non_smoker_count_p = round((non_smoker_count*100)/len(smokers),2)      \n",
    "        return '{} => smokers:{}({}%), non-smokers:{}({}%)'.format(focus,smoker_count, smoker_count_p,non_smoker_count, non_smoker_count_p)             "
   ],
   "outputs": [],
   "metadata": {}
  },
  {
   "cell_type": "markdown",
   "source": [
    "Lets see the class in action"
   ],
   "metadata": {}
  },
  {
   "cell_type": "code",
   "execution_count": 21,
   "source": [
    "p_i = PatientInfos(smoker_ages,smoker_sex,smoker_bmi,smoker_charges,obese_ages,obese_sex,obese_smoker,obese_charges)\n",
    "print(p_i.analyze_age('smoker'))   \n",
    "print(p_i.analyze_sex('smoker'))   \n",
    "print(p_i.analyze_bmi())   \n",
    "print(p_i.analyze_charges('smoker'))\n",
    "\n",
    "print(p_i.analyze_age('obese'))\n",
    "print(p_i.analyze_sex('obese'))\n",
    "print(p_i.analyze_smoker())\n",
    "print(p_i.analyze_charges('obese')) "
   ],
   "outputs": [
    {
     "output_type": "stream",
     "name": "stdout",
     "text": [
      "smoker=> average age: 38, youngest: 18, oldest:64\n",
      "smoker => male: 159(58.03%), female: 115(41.97%)\n",
      "smoker=> overweight:74(27.01%), obese:144(52.55%)\n",
      "smoker=> average charge: $32050.23\n",
      "obese=> average age: 40, youngest: 18, oldest:64\n",
      "obese => male: 373(52.76%), female: 334(47.24%)\n",
      "obese => smokers:145(20.51%), non-smokers:562(79.49%)\n",
      "obese=> average charge: $15552.34\n"
     ]
    }
   ],
   "metadata": {}
  },
  {
   "cell_type": "markdown",
   "source": [
    "4. My conclusions\n",
    "\n",
    "of all the analysis that was done, the one that surprised me the most was the smoker stats for obese. I expected there to be more smokers than non-smokers."
   ],
   "metadata": {}
  }
 ],
 "metadata": {
  "orig_nbformat": 4,
  "language_info": {
   "name": "python",
   "version": "3.8.10",
   "mimetype": "text/x-python",
   "codemirror_mode": {
    "name": "ipython",
    "version": 3
   },
   "pygments_lexer": "ipython3",
   "nbconvert_exporter": "python",
   "file_extension": ".py"
  },
  "kernelspec": {
   "name": "python3",
   "display_name": "Python 3.8.10 64-bit"
  },
  "interpreter": {
   "hash": "916dbcbb3f70747c44a77c7bcd40155683ae19c65e1c03b4aa3499c5328201f1"
  }
 },
 "nbformat": 4,
 "nbformat_minor": 2
}